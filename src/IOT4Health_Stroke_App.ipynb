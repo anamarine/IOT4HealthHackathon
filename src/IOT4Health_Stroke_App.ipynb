{
 "cells": [
  {
   "cell_type": "markdown",
   "metadata": {
    "id": "U7NryojBKEIT"
   },
   "source": [
    "# IoT Hackathon - Stroke Prediction App\n",
    "\n",
    "# Part III - Prediction & Visualization\n"
   ]
  },
  {
   "cell_type": "markdown",
   "metadata": {
    "id": "Y9IgwQGOKEIW"
   },
   "source": [
    "## 1. Imports"
   ]
  },
  {
   "cell_type": "code",
   "execution_count": 1,
   "metadata": {
    "colab": {
     "base_uri": "https://localhost:8080/"
    },
    "id": "Fw2m4ZCBKHQg",
    "outputId": "10572a91-ab51-414a-e775-852d9764afda"
   },
   "outputs": [
    {
     "name": "stdout",
     "output_type": "stream",
     "text": [
      "Collecting jupyter-dash\n",
      "  Downloading jupyter_dash-0.4.0-py3-none-any.whl (20 kB)\n",
      "Collecting dash\n",
      "  Downloading dash-2.0.0-py3-none-any.whl (7.3 MB)\n",
      "\u001b[K     |████████████████████████████████| 7.3 MB 8.3 MB/s \n",
      "\u001b[?25hRequirement already satisfied: requests in /usr/local/lib/python3.7/dist-packages (from jupyter-dash) (2.23.0)\n",
      "Requirement already satisfied: retrying in /usr/local/lib/python3.7/dist-packages (from jupyter-dash) (1.3.3)\n",
      "Requirement already satisfied: ipython in /usr/local/lib/python3.7/dist-packages (from jupyter-dash) (5.5.0)\n",
      "Requirement already satisfied: ipykernel in /usr/local/lib/python3.7/dist-packages (from jupyter-dash) (4.10.1)\n",
      "Collecting ansi2html\n",
      "  Downloading ansi2html-1.6.0-py3-none-any.whl (14 kB)\n",
      "Requirement already satisfied: flask in /usr/local/lib/python3.7/dist-packages (from jupyter-dash) (1.1.4)\n",
      "Collecting plotly>=5.0.0\n",
      "  Downloading plotly-5.5.0-py2.py3-none-any.whl (26.5 MB)\n",
      "\u001b[K     |████████████████████████████████| 26.5 MB 61.8 MB/s \n",
      "\u001b[?25hCollecting dash-table==5.0.0\n",
      "  Downloading dash_table-5.0.0.tar.gz (3.4 kB)\n",
      "Collecting dash-html-components==2.0.0\n",
      "  Downloading dash_html_components-2.0.0.tar.gz (3.8 kB)\n",
      "Collecting dash-core-components==2.0.0\n",
      "  Downloading dash_core_components-2.0.0.tar.gz (3.4 kB)\n",
      "Collecting flask-compress\n",
      "  Downloading Flask_Compress-1.10.1-py3-none-any.whl (7.9 kB)\n",
      "Requirement already satisfied: Werkzeug<2.0,>=0.15 in /usr/local/lib/python3.7/dist-packages (from flask->jupyter-dash) (1.0.1)\n",
      "Requirement already satisfied: itsdangerous<2.0,>=0.24 in /usr/local/lib/python3.7/dist-packages (from flask->jupyter-dash) (1.1.0)\n",
      "Requirement already satisfied: click<8.0,>=5.1 in /usr/local/lib/python3.7/dist-packages (from flask->jupyter-dash) (7.1.2)\n",
      "Requirement already satisfied: Jinja2<3.0,>=2.10.1 in /usr/local/lib/python3.7/dist-packages (from flask->jupyter-dash) (2.11.3)\n",
      "Requirement already satisfied: MarkupSafe>=0.23 in /usr/local/lib/python3.7/dist-packages (from Jinja2<3.0,>=2.10.1->flask->jupyter-dash) (2.0.1)\n",
      "Collecting tenacity>=6.2.0\n",
      "  Downloading tenacity-8.0.1-py3-none-any.whl (24 kB)\n",
      "Requirement already satisfied: six in /usr/local/lib/python3.7/dist-packages (from plotly>=5.0.0->dash->jupyter-dash) (1.15.0)\n",
      "Collecting brotli\n",
      "  Downloading Brotli-1.0.9-cp37-cp37m-manylinux1_x86_64.whl (357 kB)\n",
      "\u001b[K     |████████████████████████████████| 357 kB 26.0 MB/s \n",
      "\u001b[?25hRequirement already satisfied: tornado>=4.0 in /usr/local/lib/python3.7/dist-packages (from ipykernel->jupyter-dash) (5.1.1)\n",
      "Requirement already satisfied: jupyter-client in /usr/local/lib/python3.7/dist-packages (from ipykernel->jupyter-dash) (5.3.5)\n",
      "Requirement already satisfied: traitlets>=4.1.0 in /usr/local/lib/python3.7/dist-packages (from ipykernel->jupyter-dash) (5.1.1)\n",
      "Requirement already satisfied: decorator in /usr/local/lib/python3.7/dist-packages (from ipython->jupyter-dash) (4.4.2)\n",
      "Requirement already satisfied: pexpect in /usr/local/lib/python3.7/dist-packages (from ipython->jupyter-dash) (4.8.0)\n",
      "Requirement already satisfied: prompt-toolkit<2.0.0,>=1.0.4 in /usr/local/lib/python3.7/dist-packages (from ipython->jupyter-dash) (1.0.18)\n",
      "Requirement already satisfied: pickleshare in /usr/local/lib/python3.7/dist-packages (from ipython->jupyter-dash) (0.7.5)\n",
      "Requirement already satisfied: simplegeneric>0.8 in /usr/local/lib/python3.7/dist-packages (from ipython->jupyter-dash) (0.8.1)\n",
      "Requirement already satisfied: pygments in /usr/local/lib/python3.7/dist-packages (from ipython->jupyter-dash) (2.6.1)\n",
      "Requirement already satisfied: setuptools>=18.5 in /usr/local/lib/python3.7/dist-packages (from ipython->jupyter-dash) (57.4.0)\n",
      "Requirement already satisfied: wcwidth in /usr/local/lib/python3.7/dist-packages (from prompt-toolkit<2.0.0,>=1.0.4->ipython->jupyter-dash) (0.2.5)\n",
      "Requirement already satisfied: jupyter-core>=4.6.0 in /usr/local/lib/python3.7/dist-packages (from jupyter-client->ipykernel->jupyter-dash) (4.9.1)\n",
      "Requirement already satisfied: python-dateutil>=2.1 in /usr/local/lib/python3.7/dist-packages (from jupyter-client->ipykernel->jupyter-dash) (2.8.2)\n",
      "Requirement already satisfied: pyzmq>=13 in /usr/local/lib/python3.7/dist-packages (from jupyter-client->ipykernel->jupyter-dash) (22.3.0)\n",
      "Requirement already satisfied: ptyprocess>=0.5 in /usr/local/lib/python3.7/dist-packages (from pexpect->ipython->jupyter-dash) (0.7.0)\n",
      "Requirement already satisfied: idna<3,>=2.5 in /usr/local/lib/python3.7/dist-packages (from requests->jupyter-dash) (2.10)\n",
      "Requirement already satisfied: chardet<4,>=3.0.2 in /usr/local/lib/python3.7/dist-packages (from requests->jupyter-dash) (3.0.4)\n",
      "Requirement already satisfied: certifi>=2017.4.17 in /usr/local/lib/python3.7/dist-packages (from requests->jupyter-dash) (2021.10.8)\n",
      "Requirement already satisfied: urllib3!=1.25.0,!=1.25.1,<1.26,>=1.21.1 in /usr/local/lib/python3.7/dist-packages (from requests->jupyter-dash) (1.24.3)\n",
      "Building wheels for collected packages: dash-core-components, dash-html-components, dash-table\n",
      "  Building wheel for dash-core-components (setup.py) ... \u001b[?25l\u001b[?25hdone\n",
      "  Created wheel for dash-core-components: filename=dash_core_components-2.0.0-py3-none-any.whl size=3822 sha256=92b2f0a174b57bd54f975671d1da7935c5acf1a9d4cb57faa22edaf58d67dd17\n",
      "  Stored in directory: /root/.cache/pip/wheels/00/f9/c7/1a6437d794ed753ea9bc9079e761d4fc803a1f1f5d3697b9ec\n",
      "  Building wheel for dash-html-components (setup.py) ... \u001b[?25l\u001b[?25hdone\n",
      "  Created wheel for dash-html-components: filename=dash_html_components-2.0.0-py3-none-any.whl size=4090 sha256=4d88ddf8a8aa31d7cd0cc1ee3e9e76ed8a7859f37aa92b9162e97d9bd2318405\n",
      "  Stored in directory: /root/.cache/pip/wheels/ec/6b/81/05aceabd8b27f724e2c96784016287cc1bfbc349ebfda451de\n",
      "  Building wheel for dash-table (setup.py) ... \u001b[?25l\u001b[?25hdone\n",
      "  Created wheel for dash-table: filename=dash_table-5.0.0-py3-none-any.whl size=3912 sha256=b9f7397b886e8c6c4f413d93fe0167a6dce3bb1e7fff686cc2d56e27ea380895\n",
      "  Stored in directory: /root/.cache/pip/wheels/85/5d/4e/7c276b57992951dbe770bf5caad6448d0539c510663aefd2e2\n",
      "Successfully built dash-core-components dash-html-components dash-table\n",
      "Installing collected packages: tenacity, brotli, plotly, flask-compress, dash-table, dash-html-components, dash-core-components, dash, ansi2html, jupyter-dash\n",
      "  Attempting uninstall: plotly\n",
      "    Found existing installation: plotly 4.4.1\n",
      "    Uninstalling plotly-4.4.1:\n",
      "      Successfully uninstalled plotly-4.4.1\n",
      "Successfully installed ansi2html-1.6.0 brotli-1.0.9 dash-2.0.0 dash-core-components-2.0.0 dash-html-components-2.0.0 dash-table-5.0.0 flask-compress-1.10.1 jupyter-dash-0.4.0 plotly-5.5.0 tenacity-8.0.1\n"
     ]
    }
   ],
   "source": [
    "pip install jupyter-dash"
   ]
  },
  {
   "cell_type": "code",
   "execution_count": 2,
   "metadata": {
    "colab": {
     "base_uri": "https://localhost:8080/"
    },
    "id": "vtCCfvlpKEIX",
    "outputId": "9576401b-e0ab-49fb-bc91-ed5d6d09c4bb"
   },
   "outputs": [
    {
     "name": "stdout",
     "output_type": "stream",
     "text": [
      "Collecting dash-pivottable\n",
      "  Downloading dash_pivottable-0.0.2-py3-none-any.whl (5.9 MB)\n",
      "\u001b[K     |████████████████████████████████| 5.9 MB 7.3 MB/s \n",
      "\u001b[?25hRequirement already satisfied: dash in /usr/local/lib/python3.7/dist-packages (from dash-pivottable) (2.0.0)\n",
      "Requirement already satisfied: dash-table==5.0.0 in /usr/local/lib/python3.7/dist-packages (from dash->dash-pivottable) (5.0.0)\n",
      "Requirement already satisfied: Flask>=1.0.4 in /usr/local/lib/python3.7/dist-packages (from dash->dash-pivottable) (1.1.4)\n",
      "Requirement already satisfied: plotly>=5.0.0 in /usr/local/lib/python3.7/dist-packages (from dash->dash-pivottable) (5.5.0)\n",
      "Requirement already satisfied: flask-compress in /usr/local/lib/python3.7/dist-packages (from dash->dash-pivottable) (1.10.1)\n",
      "Requirement already satisfied: dash-core-components==2.0.0 in /usr/local/lib/python3.7/dist-packages (from dash->dash-pivottable) (2.0.0)\n",
      "Requirement already satisfied: dash-html-components==2.0.0 in /usr/local/lib/python3.7/dist-packages (from dash->dash-pivottable) (2.0.0)\n",
      "Requirement already satisfied: click<8.0,>=5.1 in /usr/local/lib/python3.7/dist-packages (from Flask>=1.0.4->dash->dash-pivottable) (7.1.2)\n",
      "Requirement already satisfied: Jinja2<3.0,>=2.10.1 in /usr/local/lib/python3.7/dist-packages (from Flask>=1.0.4->dash->dash-pivottable) (2.11.3)\n",
      "Requirement already satisfied: Werkzeug<2.0,>=0.15 in /usr/local/lib/python3.7/dist-packages (from Flask>=1.0.4->dash->dash-pivottable) (1.0.1)\n",
      "Requirement already satisfied: itsdangerous<2.0,>=0.24 in /usr/local/lib/python3.7/dist-packages (from Flask>=1.0.4->dash->dash-pivottable) (1.1.0)\n",
      "Requirement already satisfied: MarkupSafe>=0.23 in /usr/local/lib/python3.7/dist-packages (from Jinja2<3.0,>=2.10.1->Flask>=1.0.4->dash->dash-pivottable) (2.0.1)\n",
      "Requirement already satisfied: six in /usr/local/lib/python3.7/dist-packages (from plotly>=5.0.0->dash->dash-pivottable) (1.15.0)\n",
      "Requirement already satisfied: tenacity>=6.2.0 in /usr/local/lib/python3.7/dist-packages (from plotly>=5.0.0->dash->dash-pivottable) (8.0.1)\n",
      "Requirement already satisfied: brotli in /usr/local/lib/python3.7/dist-packages (from flask-compress->dash->dash-pivottable) (1.0.9)\n",
      "Installing collected packages: dash-pivottable\n",
      "Successfully installed dash-pivottable-0.0.2\n"
     ]
    }
   ],
   "source": [
    "pip install dash-pivottable"
   ]
  },
  {
   "cell_type": "code",
   "execution_count": 3,
   "metadata": {
    "id": "UaA4DpFJKEIZ"
   },
   "outputs": [],
   "source": [
    "import sklearn\n",
    "import pandas as pd\n",
    "import numpy as np\n",
    "\n",
    "from jupyter_dash import JupyterDash\n",
    "\n",
    "import plotly.express as px\n",
    "import dash\n",
    "from dash import dcc\n",
    "from dash import html\n",
    "import dash_pivottable\n",
    "from dash.dependencies import Input, Output\n",
    "import plotly.graph_objects as go"
   ]
  },
  {
   "cell_type": "code",
   "execution_count": 13,
   "metadata": {
    "colab": {
     "base_uri": "https://localhost:8080/",
     "height": 206
    },
    "id": "OxkyKZS8KEIZ",
    "outputId": "1aa6c31e-1cd8-41e8-cfdc-ad6b6e1e3239"
   },
   "outputs": [
    {
     "data": {
      "text/html": [
       "<div>\n",
       "<style scoped>\n",
       "    .dataframe tbody tr th:only-of-type {\n",
       "        vertical-align: middle;\n",
       "    }\n",
       "\n",
       "    .dataframe tbody tr th {\n",
       "        vertical-align: top;\n",
       "    }\n",
       "\n",
       "    .dataframe thead th {\n",
       "        text-align: right;\n",
       "    }\n",
       "</style>\n",
       "<table border=\"1\" class=\"dataframe\">\n",
       "  <thead>\n",
       "    <tr style=\"text-align: right;\">\n",
       "      <th></th>\n",
       "      <th>Unnamed: 0</th>\n",
       "      <th>id</th>\n",
       "      <th>gender</th>\n",
       "      <th>age</th>\n",
       "      <th>hypertension</th>\n",
       "      <th>heart_disease</th>\n",
       "      <th>ever_married</th>\n",
       "      <th>work_type</th>\n",
       "      <th>Residence_type</th>\n",
       "      <th>avg_glucose_level</th>\n",
       "      <th>bmi</th>\n",
       "      <th>smoking_status</th>\n",
       "      <th>stroke</th>\n",
       "    </tr>\n",
       "  </thead>\n",
       "  <tbody>\n",
       "    <tr>\n",
       "      <th>0</th>\n",
       "      <td>1</td>\n",
       "      <td>9046</td>\n",
       "      <td>Male</td>\n",
       "      <td>67</td>\n",
       "      <td>0</td>\n",
       "      <td>1</td>\n",
       "      <td>Yes</td>\n",
       "      <td>Private</td>\n",
       "      <td>Urban</td>\n",
       "      <td>228.69</td>\n",
       "      <td>36.6</td>\n",
       "      <td>formerly smoked</td>\n",
       "      <td>1</td>\n",
       "    </tr>\n",
       "    <tr>\n",
       "      <th>1</th>\n",
       "      <td>2</td>\n",
       "      <td>51676</td>\n",
       "      <td>Female</td>\n",
       "      <td>61</td>\n",
       "      <td>0</td>\n",
       "      <td>0</td>\n",
       "      <td>Yes</td>\n",
       "      <td>Self-employed</td>\n",
       "      <td>Rural</td>\n",
       "      <td>202.21</td>\n",
       "      <td>NaN</td>\n",
       "      <td>never smoked</td>\n",
       "      <td>1</td>\n",
       "    </tr>\n",
       "    <tr>\n",
       "      <th>2</th>\n",
       "      <td>3</td>\n",
       "      <td>31112</td>\n",
       "      <td>Male</td>\n",
       "      <td>80</td>\n",
       "      <td>0</td>\n",
       "      <td>1</td>\n",
       "      <td>Yes</td>\n",
       "      <td>Private</td>\n",
       "      <td>Rural</td>\n",
       "      <td>105.92</td>\n",
       "      <td>32.5</td>\n",
       "      <td>never smoked</td>\n",
       "      <td>1</td>\n",
       "    </tr>\n",
       "    <tr>\n",
       "      <th>3</th>\n",
       "      <td>4</td>\n",
       "      <td>1665</td>\n",
       "      <td>Female</td>\n",
       "      <td>79</td>\n",
       "      <td>1</td>\n",
       "      <td>0</td>\n",
       "      <td>Yes</td>\n",
       "      <td>Self-employed</td>\n",
       "      <td>Rural</td>\n",
       "      <td>174.12</td>\n",
       "      <td>24.0</td>\n",
       "      <td>never smoked</td>\n",
       "      <td>1</td>\n",
       "    </tr>\n",
       "    <tr>\n",
       "      <th>4</th>\n",
       "      <td>5</td>\n",
       "      <td>56669</td>\n",
       "      <td>Male</td>\n",
       "      <td>81</td>\n",
       "      <td>0</td>\n",
       "      <td>0</td>\n",
       "      <td>Yes</td>\n",
       "      <td>Private</td>\n",
       "      <td>Urban</td>\n",
       "      <td>186.21</td>\n",
       "      <td>29.0</td>\n",
       "      <td>formerly smoked</td>\n",
       "      <td>1</td>\n",
       "    </tr>\n",
       "  </tbody>\n",
       "</table>\n",
       "</div>"
      ],
      "text/plain": [
       "   Unnamed: 0     id  gender  age  hypertension  heart_disease ever_married  \\\n",
       "0           1   9046    Male   67             0              1          Yes   \n",
       "1           2  51676  Female   61             0              0          Yes   \n",
       "2           3  31112    Male   80             0              1          Yes   \n",
       "3           4   1665  Female   79             1              0          Yes   \n",
       "4           5  56669    Male   81             0              0          Yes   \n",
       "\n",
       "       work_type Residence_type  avg_glucose_level   bmi   smoking_status  \\\n",
       "0        Private          Urban             228.69  36.6  formerly smoked   \n",
       "1  Self-employed          Rural             202.21   NaN     never smoked   \n",
       "2        Private          Rural             105.92  32.5     never smoked   \n",
       "3  Self-employed          Rural             174.12  24.0     never smoked   \n",
       "4        Private          Urban             186.21  29.0  formerly smoked   \n",
       "\n",
       "   stroke  \n",
       "0       1  \n",
       "1       1  \n",
       "2       1  \n",
       "3       1  \n",
       "4       1  "
      ]
     },
     "execution_count": 13,
     "metadata": {},
     "output_type": "execute_result"
    }
   ],
   "source": [
    "df = pd.read_csv('../data/elderly_strokes.csv')\n",
    "df.head()"
   ]
  },
  {
   "cell_type": "code",
   "execution_count": 14,
   "metadata": {
    "colab": {
     "base_uri": "https://localhost:8080/"
    },
    "id": "Tu52pRb_KEIa",
    "outputId": "595b1321-a34b-4815-f788-0cb72415db55"
   },
   "outputs": [
    {
     "data": {
      "text/plain": [
       "(1376, 13)"
      ]
     },
     "execution_count": 14,
     "metadata": {},
     "output_type": "execute_result"
    }
   ],
   "source": [
    "df.shape"
   ]
  },
  {
   "cell_type": "code",
   "execution_count": 15,
   "metadata": {
    "colab": {
     "base_uri": "https://localhost:8080/"
    },
    "id": "kAu-fXsYKEIa",
    "outputId": "a8c2e4a3-9f92-4d44-fbae-b894a6c78570"
   },
   "outputs": [
    {
     "name": "stdout",
     "output_type": "stream",
     "text": [
      "<class 'pandas.core.frame.DataFrame'>\n",
      "RangeIndex: 1376 entries, 0 to 1375\n",
      "Data columns (total 13 columns):\n",
      " #   Column             Non-Null Count  Dtype  \n",
      "---  ------             --------------  -----  \n",
      " 0   Unnamed: 0         1376 non-null   int64  \n",
      " 1   id                 1376 non-null   int64  \n",
      " 2   gender             1376 non-null   object \n",
      " 3   age                1376 non-null   int64  \n",
      " 4   hypertension       1376 non-null   int64  \n",
      " 5   heart_disease      1376 non-null   int64  \n",
      " 6   ever_married       1376 non-null   object \n",
      " 7   work_type          1376 non-null   object \n",
      " 8   Residence_type     1376 non-null   object \n",
      " 9   avg_glucose_level  1376 non-null   float64\n",
      " 10  bmi                1285 non-null   float64\n",
      " 11  smoking_status     1376 non-null   object \n",
      " 12  stroke             1376 non-null   int64  \n",
      "dtypes: float64(2), int64(6), object(5)\n",
      "memory usage: 139.9+ KB\n"
     ]
    }
   ],
   "source": [
    "df.info()"
   ]
  },
  {
   "cell_type": "code",
   "execution_count": 16,
   "metadata": {
    "colab": {
     "base_uri": "https://localhost:8080/"
    },
    "id": "cRBt6UKlKEIb",
    "outputId": "e5204d4f-f60e-4cfb-eb01-c95fde4dae53"
   },
   "outputs": [
    {
     "name": "stdout",
     "output_type": "stream",
     "text": [
      "Unnamed: 0 : [   1    2    3 ... 1374 1375 1376]\n",
      "id : [ 9046 51676 31112 ... 68398 18234 44873]\n",
      "gender : ['Male' 'Female']\n",
      "age : [67 61 80 79 81 74 69 78 64 75 60 71 82 65 72 63 76 77 73 70 66 68 62]\n",
      "hypertension : [0 1]\n",
      "heart_disease : [1 0]\n",
      "ever_married : ['Yes' 'No']\n",
      "work_type : ['Private' 'Self-employed' 'Govt_job']\n",
      "Residence_type : ['Urban' 'Rural']\n",
      "avg_glucose_level : [228.69 202.21 105.92 ...  71.97  83.75 125.2 ]\n",
      "bmi : [36.6  nan 32.5 24.  29.  27.4 22.8 24.2 29.7 36.8 28.2 37.5 25.8 37.8\n",
      " 22.4 26.6 27.2 23.5 28.3 22.2 30.5 26.5 33.7 23.1 23.9 26.4 20.2 33.6\n",
      " 27.7 31.4 36.5 33.2 32.8 25.3 47.5 20.3 28.9 28.1 31.1 21.7 27.  24.1\n",
      " 22.9 27.3 32.3 25.6 29.8 26.3 26.2 24.4 28.  28.8 34.6 19.4 22.6 27.1\n",
      " 30.9 31.3 31.  31.7 28.4 20.1 26.7 38.7 29.9 34.9 25.  21.8 30.  27.5\n",
      " 24.6 26.1 31.9 34.1 36.9 45.7 34.2 23.6 22.3 32.9 37.1 45.  25.5 37.4\n",
      " 34.5 27.9 29.5 46.  26.9 45.5 28.5 31.5 32.  30.8 33.  23.4 30.7 21.5\n",
      " 28.6 42.2 35.4 16.9 34.4 26.8 39.3 32.6 35.9 21.2 42.4 40.5 29.3 19.6\n",
      " 54.6 35.  22.  25.2 41.8 31.2 36.  35.3 34.3 24.9 39.5 23.7 24.8 23.2\n",
      " 36.1 36.3 35.2 31.8 29.4 30.2 27.8 60.2 22.5 26.  44.3 34.7 41.2 25.4\n",
      " 19.2 40.8 27.6 35.8 40.9 30.1 36.4 23.  29.6 21.  16.7 25.9 31.6 30.6\n",
      " 36.7 39.4 34.8 24.3 30.3 23.3 32.4 22.1 42.6 32.1 28.7 33.4 32.2 29.1\n",
      " 33.5 30.4 36.2 35.1 21.1 37.2 22.7 21.3 41.1 25.1 37.7 41.3 43.1 33.3\n",
      " 18.8 46.2 24.5 19.3 44.5 24.7 33.1 33.9 19.7 35.5 17.9 29.2 34.  17.6\n",
      " 37.3 20.4 37.  38.9 20.8 18.3 39.9 21.4 19.8 23.8 33.8 16.1 41.7 20.5\n",
      " 16.4 39.  38.1 57.7 14.1 38.8 17.3 42.3 56.1 20.9 40.3 44.2 45.1 48.7\n",
      " 37.6 18.7 42.7 52.7 39.2 52.8 38.  40.2 14.2 19.9 38.6 48.  44.7 18.2\n",
      " 43.4 11.3 42.  37.9 43.7 35.6 21.9 25.7 51.9 32.7 35.7 43.9 15.  19.1\n",
      " 47.4 41.4 40.4 39.1 40.1 43.3 43.8 38.2 54.3 39.8 38.3 20.7 20.6 19.5\n",
      " 41.9 47.6 43.  40.  45.2 44.6]\n",
      "smoking_status : ['formerly smoked' 'never smoked' 'Unknown' 'smokes']\n",
      "stroke : [1 0]\n"
     ]
    }
   ],
   "source": [
    "for col in df:\n",
    "    print(df[col].name, ':', df[col].unique())"
   ]
  },
  {
   "cell_type": "code",
   "execution_count": 17,
   "metadata": {
    "colab": {
     "base_uri": "https://localhost:8080/"
    },
    "id": "--lcaLCeKEIc",
    "outputId": "5abe29d1-07b9-423c-b534-c4efe72c7856"
   },
   "outputs": [
    {
     "data": {
      "text/plain": [
       "(1285, 13)"
      ]
     },
     "execution_count": 17,
     "metadata": {},
     "output_type": "execute_result"
    }
   ],
   "source": [
    "df = df.dropna()\n",
    "df.shape"
   ]
  },
  {
   "cell_type": "markdown",
   "metadata": {
    "id": "4rJcMbjhKEId"
   },
   "source": [
    "- Missing values clean\n",
    "- Unnamed and Id cols are useless\n",
    "- hypertension, heart_disease: change 0 ->'No', 1 -> 'Yes'\n",
    "- work_type : change 'Private'-> 0, 'Self-employed'-> 1, 'Govt_job'-> 2\n"
   ]
  },
  {
   "cell_type": "code",
   "execution_count": 18,
   "metadata": {
    "id": "GoUsucVsKEId"
   },
   "outputs": [],
   "source": [
    "df = df.drop(['Unnamed: 0', 'id'], axis=1)"
   ]
  },
  {
   "cell_type": "code",
   "execution_count": 19,
   "metadata": {
    "colab": {
     "base_uri": "https://localhost:8080/"
    },
    "id": "VqRWpL-TKEId",
    "outputId": "afe23a38-313b-49c3-90f1-314166124411"
   },
   "outputs": [
    {
     "data": {
      "text/plain": [
       "(1285, 11)"
      ]
     },
     "execution_count": 19,
     "metadata": {},
     "output_type": "execute_result"
    }
   ],
   "source": [
    "df.shape"
   ]
  },
  {
   "cell_type": "code",
   "execution_count": 20,
   "metadata": {
    "colab": {
     "base_uri": "https://localhost:8080/",
     "height": 206
    },
    "id": "5D1zlXTVKEIe",
    "outputId": "8fe766bd-3f04-454a-b243-c2ab16d65833"
   },
   "outputs": [
    {
     "data": {
      "text/html": [
       "<div>\n",
       "<style scoped>\n",
       "    .dataframe tbody tr th:only-of-type {\n",
       "        vertical-align: middle;\n",
       "    }\n",
       "\n",
       "    .dataframe tbody tr th {\n",
       "        vertical-align: top;\n",
       "    }\n",
       "\n",
       "    .dataframe thead th {\n",
       "        text-align: right;\n",
       "    }\n",
       "</style>\n",
       "<table border=\"1\" class=\"dataframe\">\n",
       "  <thead>\n",
       "    <tr style=\"text-align: right;\">\n",
       "      <th></th>\n",
       "      <th>gender</th>\n",
       "      <th>age</th>\n",
       "      <th>hypertension</th>\n",
       "      <th>heart_disease</th>\n",
       "      <th>ever_married</th>\n",
       "      <th>work_type</th>\n",
       "      <th>Residence_type</th>\n",
       "      <th>avg_glucose_level</th>\n",
       "      <th>bmi</th>\n",
       "      <th>smoking_status</th>\n",
       "      <th>stroke</th>\n",
       "    </tr>\n",
       "  </thead>\n",
       "  <tbody>\n",
       "    <tr>\n",
       "      <th>0</th>\n",
       "      <td>Male</td>\n",
       "      <td>67</td>\n",
       "      <td>0</td>\n",
       "      <td>1</td>\n",
       "      <td>Yes</td>\n",
       "      <td>Private</td>\n",
       "      <td>Urban</td>\n",
       "      <td>228.69</td>\n",
       "      <td>36.6</td>\n",
       "      <td>formerly smoked</td>\n",
       "      <td>1</td>\n",
       "    </tr>\n",
       "    <tr>\n",
       "      <th>2</th>\n",
       "      <td>Male</td>\n",
       "      <td>80</td>\n",
       "      <td>0</td>\n",
       "      <td>1</td>\n",
       "      <td>Yes</td>\n",
       "      <td>Private</td>\n",
       "      <td>Rural</td>\n",
       "      <td>105.92</td>\n",
       "      <td>32.5</td>\n",
       "      <td>never smoked</td>\n",
       "      <td>1</td>\n",
       "    </tr>\n",
       "    <tr>\n",
       "      <th>3</th>\n",
       "      <td>Female</td>\n",
       "      <td>79</td>\n",
       "      <td>1</td>\n",
       "      <td>0</td>\n",
       "      <td>Yes</td>\n",
       "      <td>Self-employed</td>\n",
       "      <td>Rural</td>\n",
       "      <td>174.12</td>\n",
       "      <td>24.0</td>\n",
       "      <td>never smoked</td>\n",
       "      <td>1</td>\n",
       "    </tr>\n",
       "    <tr>\n",
       "      <th>4</th>\n",
       "      <td>Male</td>\n",
       "      <td>81</td>\n",
       "      <td>0</td>\n",
       "      <td>0</td>\n",
       "      <td>Yes</td>\n",
       "      <td>Private</td>\n",
       "      <td>Urban</td>\n",
       "      <td>186.21</td>\n",
       "      <td>29.0</td>\n",
       "      <td>formerly smoked</td>\n",
       "      <td>1</td>\n",
       "    </tr>\n",
       "    <tr>\n",
       "      <th>5</th>\n",
       "      <td>Male</td>\n",
       "      <td>74</td>\n",
       "      <td>1</td>\n",
       "      <td>1</td>\n",
       "      <td>Yes</td>\n",
       "      <td>Private</td>\n",
       "      <td>Rural</td>\n",
       "      <td>70.09</td>\n",
       "      <td>27.4</td>\n",
       "      <td>never smoked</td>\n",
       "      <td>1</td>\n",
       "    </tr>\n",
       "  </tbody>\n",
       "</table>\n",
       "</div>"
      ],
      "text/plain": [
       "   gender  age  hypertension  heart_disease ever_married      work_type  \\\n",
       "0    Male   67             0              1          Yes        Private   \n",
       "2    Male   80             0              1          Yes        Private   \n",
       "3  Female   79             1              0          Yes  Self-employed   \n",
       "4    Male   81             0              0          Yes        Private   \n",
       "5    Male   74             1              1          Yes        Private   \n",
       "\n",
       "  Residence_type  avg_glucose_level   bmi   smoking_status  stroke  \n",
       "0          Urban             228.69  36.6  formerly smoked       1  \n",
       "2          Rural             105.92  32.5     never smoked       1  \n",
       "3          Rural             174.12  24.0     never smoked       1  \n",
       "4          Urban             186.21  29.0  formerly smoked       1  \n",
       "5          Rural              70.09  27.4     never smoked       1  "
      ]
     },
     "execution_count": 20,
     "metadata": {},
     "output_type": "execute_result"
    }
   ],
   "source": [
    "df.head()"
   ]
  },
  {
   "cell_type": "code",
   "execution_count": 21,
   "metadata": {
    "id": "9bgVeV7OKEIe"
   },
   "outputs": [],
   "source": [
    "df.hypertension = df.hypertension.replace([0, 1], ['No', 'Yes'])\n",
    "df.heart_disease = df.heart_disease.replace([0, 1], ['No', 'Yes'])\n",
    "df.stroke = df.stroke.replace([0, 1], ['No', 'Yes'])"
   ]
  },
  {
   "cell_type": "code",
   "execution_count": 22,
   "metadata": {
    "colab": {
     "base_uri": "https://localhost:8080/",
     "height": 206
    },
    "id": "7hsxSWoFKEIf",
    "outputId": "6b5313dc-a4ed-46c2-9a44-17eed7d97edd"
   },
   "outputs": [
    {
     "data": {
      "text/html": [
       "<div>\n",
       "<style scoped>\n",
       "    .dataframe tbody tr th:only-of-type {\n",
       "        vertical-align: middle;\n",
       "    }\n",
       "\n",
       "    .dataframe tbody tr th {\n",
       "        vertical-align: top;\n",
       "    }\n",
       "\n",
       "    .dataframe thead th {\n",
       "        text-align: right;\n",
       "    }\n",
       "</style>\n",
       "<table border=\"1\" class=\"dataframe\">\n",
       "  <thead>\n",
       "    <tr style=\"text-align: right;\">\n",
       "      <th></th>\n",
       "      <th>gender</th>\n",
       "      <th>age</th>\n",
       "      <th>hypertension</th>\n",
       "      <th>heart_disease</th>\n",
       "      <th>ever_married</th>\n",
       "      <th>work_type</th>\n",
       "      <th>Residence_type</th>\n",
       "      <th>avg_glucose_level</th>\n",
       "      <th>bmi</th>\n",
       "      <th>smoking_status</th>\n",
       "      <th>stroke</th>\n",
       "    </tr>\n",
       "  </thead>\n",
       "  <tbody>\n",
       "    <tr>\n",
       "      <th>0</th>\n",
       "      <td>Male</td>\n",
       "      <td>67</td>\n",
       "      <td>No</td>\n",
       "      <td>Yes</td>\n",
       "      <td>Yes</td>\n",
       "      <td>Private</td>\n",
       "      <td>Urban</td>\n",
       "      <td>228.69</td>\n",
       "      <td>36.6</td>\n",
       "      <td>formerly smoked</td>\n",
       "      <td>Yes</td>\n",
       "    </tr>\n",
       "    <tr>\n",
       "      <th>2</th>\n",
       "      <td>Male</td>\n",
       "      <td>80</td>\n",
       "      <td>No</td>\n",
       "      <td>Yes</td>\n",
       "      <td>Yes</td>\n",
       "      <td>Private</td>\n",
       "      <td>Rural</td>\n",
       "      <td>105.92</td>\n",
       "      <td>32.5</td>\n",
       "      <td>never smoked</td>\n",
       "      <td>Yes</td>\n",
       "    </tr>\n",
       "    <tr>\n",
       "      <th>3</th>\n",
       "      <td>Female</td>\n",
       "      <td>79</td>\n",
       "      <td>Yes</td>\n",
       "      <td>No</td>\n",
       "      <td>Yes</td>\n",
       "      <td>Self-employed</td>\n",
       "      <td>Rural</td>\n",
       "      <td>174.12</td>\n",
       "      <td>24.0</td>\n",
       "      <td>never smoked</td>\n",
       "      <td>Yes</td>\n",
       "    </tr>\n",
       "    <tr>\n",
       "      <th>4</th>\n",
       "      <td>Male</td>\n",
       "      <td>81</td>\n",
       "      <td>No</td>\n",
       "      <td>No</td>\n",
       "      <td>Yes</td>\n",
       "      <td>Private</td>\n",
       "      <td>Urban</td>\n",
       "      <td>186.21</td>\n",
       "      <td>29.0</td>\n",
       "      <td>formerly smoked</td>\n",
       "      <td>Yes</td>\n",
       "    </tr>\n",
       "    <tr>\n",
       "      <th>5</th>\n",
       "      <td>Male</td>\n",
       "      <td>74</td>\n",
       "      <td>Yes</td>\n",
       "      <td>Yes</td>\n",
       "      <td>Yes</td>\n",
       "      <td>Private</td>\n",
       "      <td>Rural</td>\n",
       "      <td>70.09</td>\n",
       "      <td>27.4</td>\n",
       "      <td>never smoked</td>\n",
       "      <td>Yes</td>\n",
       "    </tr>\n",
       "  </tbody>\n",
       "</table>\n",
       "</div>"
      ],
      "text/plain": [
       "   gender  age hypertension heart_disease ever_married      work_type  \\\n",
       "0    Male   67           No           Yes          Yes        Private   \n",
       "2    Male   80           No           Yes          Yes        Private   \n",
       "3  Female   79          Yes            No          Yes  Self-employed   \n",
       "4    Male   81           No            No          Yes        Private   \n",
       "5    Male   74          Yes           Yes          Yes        Private   \n",
       "\n",
       "  Residence_type  avg_glucose_level   bmi   smoking_status stroke  \n",
       "0          Urban             228.69  36.6  formerly smoked    Yes  \n",
       "2          Rural             105.92  32.5     never smoked    Yes  \n",
       "3          Rural             174.12  24.0     never smoked    Yes  \n",
       "4          Urban             186.21  29.0  formerly smoked    Yes  \n",
       "5          Rural              70.09  27.4     never smoked    Yes  "
      ]
     },
     "execution_count": 22,
     "metadata": {},
     "output_type": "execute_result"
    }
   ],
   "source": [
    "df.head()"
   ]
  },
  {
   "cell_type": "code",
   "execution_count": 23,
   "metadata": {
    "id": "ucOnnkNIKEIf"
   },
   "outputs": [],
   "source": [
    "df = df.rename(columns={'gender': 'Gender', 'age':'Age', 'hypertension': 'Hypertension', 'heart_disease': 'Heart disease', 'ever_married':'Ever married', 'work_type':'Work type', 'Residence_type': 'Residence type', 'avg_glucose_level':'Average glucose level', 'bmi': 'BMI', 'smoking_status':'Smoking status', 'stroke':'Ever had stroke'})"
   ]
  },
  {
   "cell_type": "code",
   "execution_count": 24,
   "metadata": {
    "colab": {
     "base_uri": "https://localhost:8080/",
     "height": 206
    },
    "id": "ciTzheoUKEIf",
    "outputId": "111e1640-4672-42b3-ab06-4716b128f656"
   },
   "outputs": [
    {
     "data": {
      "text/html": [
       "<div>\n",
       "<style scoped>\n",
       "    .dataframe tbody tr th:only-of-type {\n",
       "        vertical-align: middle;\n",
       "    }\n",
       "\n",
       "    .dataframe tbody tr th {\n",
       "        vertical-align: top;\n",
       "    }\n",
       "\n",
       "    .dataframe thead th {\n",
       "        text-align: right;\n",
       "    }\n",
       "</style>\n",
       "<table border=\"1\" class=\"dataframe\">\n",
       "  <thead>\n",
       "    <tr style=\"text-align: right;\">\n",
       "      <th></th>\n",
       "      <th>Gender</th>\n",
       "      <th>Age</th>\n",
       "      <th>Hypertension</th>\n",
       "      <th>Heart disease</th>\n",
       "      <th>Ever married</th>\n",
       "      <th>Work type</th>\n",
       "      <th>Residence type</th>\n",
       "      <th>Average glucose level</th>\n",
       "      <th>BMI</th>\n",
       "      <th>Smoking status</th>\n",
       "      <th>Ever had stroke</th>\n",
       "    </tr>\n",
       "  </thead>\n",
       "  <tbody>\n",
       "    <tr>\n",
       "      <th>0</th>\n",
       "      <td>Male</td>\n",
       "      <td>67</td>\n",
       "      <td>No</td>\n",
       "      <td>Yes</td>\n",
       "      <td>Yes</td>\n",
       "      <td>Private</td>\n",
       "      <td>Urban</td>\n",
       "      <td>228.69</td>\n",
       "      <td>36.6</td>\n",
       "      <td>formerly smoked</td>\n",
       "      <td>Yes</td>\n",
       "    </tr>\n",
       "    <tr>\n",
       "      <th>2</th>\n",
       "      <td>Male</td>\n",
       "      <td>80</td>\n",
       "      <td>No</td>\n",
       "      <td>Yes</td>\n",
       "      <td>Yes</td>\n",
       "      <td>Private</td>\n",
       "      <td>Rural</td>\n",
       "      <td>105.92</td>\n",
       "      <td>32.5</td>\n",
       "      <td>never smoked</td>\n",
       "      <td>Yes</td>\n",
       "    </tr>\n",
       "    <tr>\n",
       "      <th>3</th>\n",
       "      <td>Female</td>\n",
       "      <td>79</td>\n",
       "      <td>Yes</td>\n",
       "      <td>No</td>\n",
       "      <td>Yes</td>\n",
       "      <td>Self-employed</td>\n",
       "      <td>Rural</td>\n",
       "      <td>174.12</td>\n",
       "      <td>24.0</td>\n",
       "      <td>never smoked</td>\n",
       "      <td>Yes</td>\n",
       "    </tr>\n",
       "    <tr>\n",
       "      <th>4</th>\n",
       "      <td>Male</td>\n",
       "      <td>81</td>\n",
       "      <td>No</td>\n",
       "      <td>No</td>\n",
       "      <td>Yes</td>\n",
       "      <td>Private</td>\n",
       "      <td>Urban</td>\n",
       "      <td>186.21</td>\n",
       "      <td>29.0</td>\n",
       "      <td>formerly smoked</td>\n",
       "      <td>Yes</td>\n",
       "    </tr>\n",
       "    <tr>\n",
       "      <th>5</th>\n",
       "      <td>Male</td>\n",
       "      <td>74</td>\n",
       "      <td>Yes</td>\n",
       "      <td>Yes</td>\n",
       "      <td>Yes</td>\n",
       "      <td>Private</td>\n",
       "      <td>Rural</td>\n",
       "      <td>70.09</td>\n",
       "      <td>27.4</td>\n",
       "      <td>never smoked</td>\n",
       "      <td>Yes</td>\n",
       "    </tr>\n",
       "  </tbody>\n",
       "</table>\n",
       "</div>"
      ],
      "text/plain": [
       "   Gender  Age Hypertension Heart disease Ever married      Work type  \\\n",
       "0    Male   67           No           Yes          Yes        Private   \n",
       "2    Male   80           No           Yes          Yes        Private   \n",
       "3  Female   79          Yes            No          Yes  Self-employed   \n",
       "4    Male   81           No            No          Yes        Private   \n",
       "5    Male   74          Yes           Yes          Yes        Private   \n",
       "\n",
       "  Residence type  Average glucose level   BMI   Smoking status Ever had stroke  \n",
       "0          Urban                 228.69  36.6  formerly smoked             Yes  \n",
       "2          Rural                 105.92  32.5     never smoked             Yes  \n",
       "3          Rural                 174.12  24.0     never smoked             Yes  \n",
       "4          Urban                 186.21  29.0  formerly smoked             Yes  \n",
       "5          Rural                  70.09  27.4     never smoked             Yes  "
      ]
     },
     "execution_count": 24,
     "metadata": {},
     "output_type": "execute_result"
    }
   ],
   "source": [
    "df.head()"
   ]
  },
  {
   "cell_type": "code",
   "execution_count": 25,
   "metadata": {
    "id": "-5lXqQ7SKEIg"
   },
   "outputs": [],
   "source": [
    "feature_names = ['Gender','Age', 'Hypertension', 'Heart disease', 'Ever married', 'Work type', 'Residence type', 'Average glucose level', 'BMI', 'Smoking status']"
   ]
  },
  {
   "cell_type": "code",
   "execution_count": 26,
   "metadata": {
    "id": "L_HsjjN8KEIg"
   },
   "outputs": [],
   "source": [
    "cat_features = ['Gender', 'Hypertension', 'Heart disease', 'Ever married', 'Work type', 'Residence type', 'Smoking status']\n",
    "num_features = ['Age', 'Average glucose level', 'BMI']"
   ]
  },
  {
   "cell_type": "code",
   "execution_count": 27,
   "metadata": {
    "id": "7wWj1jPGKEIg"
   },
   "outputs": [],
   "source": [
    "gender_values = df['Gender'].unique().tolist()\n",
    "binary_values = ['Yes', 'No']\n",
    "work_values = df['Work type'].unique().tolist()\n",
    "residence_values = df['Residence type'].unique().tolist()\n",
    "smoke_values = df['Smoking status'].unique().tolist()"
   ]
  },
  {
   "cell_type": "code",
   "execution_count": 28,
   "metadata": {
    "id": "5SwZFoe7egX8"
   },
   "outputs": [],
   "source": [
    "external_scripts = [\n",
    "    'https://www.google-analytics.com/analytics.js',\n",
    "    {'src': 'https://cdn.polyfill.io/v2/polyfill.min.js'},\n",
    "    {\n",
    "        'src': 'https://cdnjs.cloudflare.com/ajax/libs/lodash.js/4.17.10/lodash.core.js',\n",
    "        'integrity': 'sha256-Qqd/EfdABZUcAxjOkMi8eGEivtdTkh3b65xCZL4qAQA=',\n",
    "        'crossorigin': 'anonymous'\n",
    "    }\n",
    "]"
   ]
  },
  {
   "cell_type": "code",
   "execution_count": 29,
   "metadata": {
    "id": "Jo-cJNQpehFP"
   },
   "outputs": [],
   "source": [
    "# external CSS stylesheets\n",
    "external_stylesheets = [\n",
    "    'https://codepen.io/chriddyp/pen/bWLwgP.css',\n",
    "    {\n",
    "        'href': 'https://stackpath.bootstrapcdn.com/bootstrap/4.1.3/css/bootstrap.min.css',\n",
    "        'rel': 'stylesheet',\n",
    "        'integrity': 'sha384-MCw98/SFnGE8fJT3GXwEOngsV7Zt27NXFoaoApmYm81iuXoPkFOJwJ8ERdknLPMO',\n",
    "        'crossorigin': 'anonymous'\n",
    "    }\n",
    "]\n",
    "\n",
    "# 'http://your-external-assets-folder-url/'"
   ]
  },
  {
   "cell_type": "code",
   "execution_count": 62,
   "metadata": {
    "colab": {
     "base_uri": "https://localhost:8080/",
     "height": 52
    },
    "id": "g1AizDXqKEIh",
    "outputId": "3355efad-2366-4ff8-89b3-1b88c701c882",
    "scrolled": true
   },
   "outputs": [
    {
     "name": "stdout",
     "output_type": "stream",
     "text": [
      "Dash app running on http://127.0.0.1:8050/\n"
     ]
    }
   ],
   "source": [
    "from typing_extensions import Annotated\n",
    "app = JupyterDash(__name__,\n",
    "                  meta_tags=[{\"name\": \"viewport\", \"content\": \"width=device-width, initial-scale=1\"}],)\n",
    "#external_stylesheets=external_stylesheets \n",
    "app.title = \"Stroke Prevention App\"\n",
    "\n",
    "server = app.server\n",
    "\n",
    "app.config.suppress_callback_exceptions = True\n",
    "\n",
    "app.layout = html.Div(\n",
    "    id=\"app-container\",\n",
    "    children=[\n",
    "        # Header\n",
    "        html.Div(\n",
    "            id=\"header\",\n",
    "            children = [html.H1(children='Stroke Prevention App', style={'textAlign': 'center','color': 'purple'}),\n",
    "                        html.H2(children='IoT and AI for Healthcare\\n', style={'textAlign': 'center','color': 'blue'}),\n",
    "                        html.P(children='Authors: Jorge Acosta, Laura Arocas, Clotide Braye, Farah Benayad, Ana Marín, Blanca Rodrigo, Moritz Schillinger', style={'textAlign': 'center'})]\n",
    "        ),\n",
    "        html.Hr(),\n",
    "        # Predictions\n",
    "        html.Div(\n",
    "            id=\"predictions\",\n",
    "            children = [\n",
    "                # Left column\n",
    "                html.Div(\n",
    "                    children=[html.H2(children='Make Predictions'),\n",
    "                              html.H4(children='Insert patient data'),\n",
    "                              \n",
    "                              html.P(children='Age'),\n",
    "                              dcc.Input(id=\"age_in\", \n",
    "                                        value='', \n",
    "                                        type='text'),\n",
    "                              \n",
    "                              html.P(children='BMI'),\n",
    "                              dcc.Input(id=\"bmi_in\", \n",
    "                                        value='', \n",
    "                                        type='text'),\n",
    "                              \n",
    "                              html.P(children='Glucose level'),\n",
    "                              dcc.Input(id=\"glucose_in\", \n",
    "                                        value='', \n",
    "                                        type='text'),\n",
    "                              \n",
    "                              html.P(children='Gender'),\n",
    "                              dcc.Dropdown(\n",
    "                                    id=\"gender_select\",\n",
    "                                    options=[{\"label\": x, \"value\": x} for x in gender_values],\n",
    "                                    value=gender_values[0],\n",
    "                                    clearable=False),\n",
    "                              \n",
    "                              html.P(children='Has hypertension'),\n",
    "                              dcc.Dropdown(\n",
    "                                    id=\"hypertension_select\",\n",
    "                                    options=[{\"label\": x, \"value\": x} for x in binary_values],\n",
    "                                    value=binary_values[0],\n",
    "                                    clearable=False),\n",
    "                              \n",
    "                              html.P(children='Has heart disease'),\n",
    "                              dcc.Dropdown(\n",
    "                                    id=\"heart_disease_select\",\n",
    "                                    options=[{\"label\": x, \"value\": x} for x in binary_values],\n",
    "                                    value=binary_values[0],\n",
    "                                    clearable=False),\n",
    "                              \n",
    "                              html.P(children='Is married'),\n",
    "                              dcc.Dropdown(\n",
    "                                    id=\"married_select\",\n",
    "                                    options=[{\"label\": x, \"value\": x} for x in binary_values],\n",
    "                                    value=binary_values[0],\n",
    "                                    clearable=False),\n",
    "                              \n",
    "                              html.P(children='Work type'),\n",
    "                              dcc.Dropdown(\n",
    "                                    id=\"work_select\",\n",
    "                                    options=[{\"label\": x, \"value\": x} for x in work_values],\n",
    "                                    value=work_values[0],\n",
    "                                    clearable=False),\n",
    "                              \n",
    "                              html.P(children='Residence type'),\n",
    "                              dcc.Dropdown(\n",
    "                                    id=\"residence_select\",\n",
    "                                    options=[{\"label\": x, \"value\": x} for x in residence_values],\n",
    "                                    value=residence_values[0],\n",
    "                                    clearable=False),\n",
    "                              \n",
    "                              html.P(children='Smoke status'),\n",
    "                              dcc.Dropdown(\n",
    "                                    id=\"smoke_select\",\n",
    "                                    options=[{\"label\": x, \"value\": x} for x in smoke_values],\n",
    "                                    value=smoke_values[0],\n",
    "                                    clearable=False),\n",
    "                              \n",
    "                             ],              \n",
    "                    style={'width': '600px', 'padding':'20px'}),\n",
    "                \n",
    "                # Right column\n",
    "                html.Div(\n",
    "                    children = [html.H4(children='Risk prediction algorithm'),\n",
    "                                html.Div(id='prediction'),\n",
    "                                html.P(children='\\n'),\n",
    "                                html.P(id='recommendations')], \n",
    "                    style={'padding': 20, 'flex': 1})\n",
    "            ],\n",
    "            style={'display': 'flex', 'flex-direction': 'row', 'flex-basis': 'fill'}\n",
    "        ),\n",
    "        html.Hr(),\n",
    "        # Feature analysis\n",
    "        html.Div(\n",
    "            id=\"single_features\",\n",
    "            children = [\n",
    "                # Left column\n",
    "                html.Div(\n",
    "                    children=[html.H2(children='Analyse single features'),\n",
    "                              html.P(children='You can analyse the different features here.'),\n",
    "                              html.P(children='The dataset features are:'),\n",
    "                              html.P(children=[html.Ul(id= 'feature_names', children = [html.Li(i) for i in feature_names]\n",
    "                                    )])],\n",
    "                         ##\n",
    "                    style={'width': '250px', 'padding':'20px'}),\n",
    "                # Right column\n",
    "                html.Div(\n",
    "                    children = [html.P(children='Select Feature'),\n",
    "                                dcc.Dropdown(\n",
    "                                    id=\"feature_select\",\n",
    "                                    options=[{\"label\": x, \"value\": x} for x in feature_names],\n",
    "                                    value=feature_names[0],\n",
    "                                    clearable=False),\n",
    "                                dcc.Graph(id=\"bar-chart\")], \n",
    "                    style={'padding': 20, 'flex': 1})], \n",
    "            style={'display': 'flex', 'flex-direction': 'row', 'flex-basis': 'fill'})\n",
    "    ])\n",
    "\n",
    "\n",
    "@app.callback(\n",
    "    Output('prediction', 'children'),\n",
    "    Input('gender_select', 'value'),\n",
    "    Input('age_in', 'value'),\n",
    "    Input('hypertension_select', 'value'),\n",
    "    Input('heart_disease_select', 'value'),\n",
    "    Input('married_select', 'value'),\n",
    "    Input('work_select', 'value'),\n",
    "    Input('residence_select', 'value'),\n",
    "    Input('glucose_in', 'value'),\n",
    "    Input('bmi_in', 'value'),\n",
    "    Input('smoke_select', 'value')\n",
    ")\n",
    "def update_prediction(gender, age, hypertension, heart_disease, married, work, residence, glucose, bmi, smoke):\n",
    "    if gender == 'Male':\n",
    "        return u'Gender is {}, age is {} the risk is HIGH'.format(gender, age)\n",
    "    else:\n",
    "        return u'Gender is {}, age is {} the risk is LOW'.format(gender, age)\n",
    "    \n",
    "\n",
    "@app.callback(\n",
    "    Output('recommendations', 'children'),\n",
    "    Input('hypertension_select', 'value'),\n",
    "    Input('heart_disease_select', 'value'),\n",
    "    Input('glucose_in', 'value'),\n",
    "    Input('bmi_in', 'value'),\n",
    "    Input('smoke_select', 'value')\n",
    ")\n",
    "def update_recommendation(hypertension, heart_disease, glucose, bmi, smoke):\n",
    "    message =['Recommended actions for the patient:']\n",
    "    if hypertension == 'Yes':\n",
    "        message.append('Eat healthy foods, decrease the salt in your diet, increase physical activity, limit alcohol, don\\'t smoke.')\n",
    "    if heart_disease == 'Yes':\n",
    "        message.append('Maintain a reasonable body weight, stay physically active, check your cholesterol level regularly, avoid smoking tobacco, using intravenous drugs, or taking street drugs.')\n",
    "    if smoke == 'smokes':\n",
    "        message.append('Some recommendations if you are trying to quit or reduce smoking tabacco: Some ways to help you, you can find them in this link: https://www.nhs.uk/live-well/quit-smoking/10-self-help-tips-to-stop-smoking/')\n",
    "    if hypertension == 'No' and heart_disease == 'No' and smoke != 'smokes': \n",
    "        message.append('No recommended actions.')\n",
    "    \n",
    "    return '\\n'.join(message)\n",
    "\n",
    "\n",
    "@app.callback(\n",
    "    Output('bar-chart', 'figure'),\n",
    "    Input('feature_select', 'value')\n",
    ")\n",
    "def update_bar_chart(feature_x):\n",
    "    if feature_x in num_features:\n",
    "        fig = px.box(df, y=feature_x, \n",
    "                         color=\"Ever had stroke\")\n",
    "        \n",
    "    if feature_x in cat_features: \n",
    "        fig = px.histogram(df, x=feature_x, \n",
    "                     color=\"Ever had stroke\", \n",
    "                     barmode='group',\n",
    "                     histfunc='count')\n",
    "    return fig\n",
    "\n",
    "\n",
    "\n",
    "if __name__ == \"__main__\":\n",
    "    app.run_server(debug=True)"
   ]
  },
  {
   "cell_type": "raw",
   "metadata": {
    "id": "eC8P02RXKEIl"
   },
   "source": [
    "\n",
    "   "
   ]
  },
  {
   "cell_type": "code",
   "execution_count": 45,
   "metadata": {
    "id": "B1WMb9YNKEIl"
   },
   "outputs": [],
   "source": [
    "message =['Recommended actions for the patient:']\n",
    "message.append('   Some recommendations if you had hypertension are: Eat healthy foods, decrease the salt in your diet, increase physical activity,limit alcohol, dont smoke.')"
   ]
  },
  {
   "cell_type": "code",
   "execution_count": 46,
   "metadata": {},
   "outputs": [
    {
     "name": "stdout",
     "output_type": "stream",
     "text": [
      "['Recommended actions for the patient:', '   Some recommendations if you had hypertension are: Eat healthy foods, decrease the salt in your diet, increase physical activity,limit alcohol, dont smoke.']\n"
     ]
    }
   ],
   "source": [
    "print(message)"
   ]
  },
  {
   "cell_type": "code",
   "execution_count": 47,
   "metadata": {},
   "outputs": [
    {
     "name": "stdout",
     "output_type": "stream",
     "text": [
      "Recommended actions for the patient:\r\n",
      "   Some recommendations if you had hypertension are: Eat healthy foods, decrease the salt in your diet, increase physical activity,limit alcohol, dont smoke.\n"
     ]
    }
   ],
   "source": [
    "print(\"\\r\\n\".join(message))"
   ]
  },
  {
   "cell_type": "code",
   "execution_count": null,
   "metadata": {},
   "outputs": [],
   "source": []
  }
 ],
 "metadata": {
  "colab": {
   "name": "Stroke (1).ipynb",
   "provenance": []
  },
  "kernelspec": {
   "display_name": "Python 3",
   "language": "python",
   "name": "python3"
  },
  "language_info": {
   "codemirror_mode": {
    "name": "ipython",
    "version": 3
   },
   "file_extension": ".py",
   "mimetype": "text/x-python",
   "name": "python",
   "nbconvert_exporter": "python",
   "pygments_lexer": "ipython3",
   "version": "3.8.3"
  }
 },
 "nbformat": 4,
 "nbformat_minor": 1
}
